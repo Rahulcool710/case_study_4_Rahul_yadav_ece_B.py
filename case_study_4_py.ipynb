{
  "nbformat": 4,
  "nbformat_minor": 0,
  "metadata": {
    "colab": {
      "provenance": [],
      "authorship_tag": "ABX9TyP2uD/G6ZhpYb2AaX0JpUE6",
      "include_colab_link": true
    },
    "kernelspec": {
      "name": "python3",
      "display_name": "Python 3"
    },
    "language_info": {
      "name": "python"
    }
  },
  "cells": [
    {
      "cell_type": "markdown",
      "metadata": {
        "id": "view-in-github",
        "colab_type": "text"
      },
      "source": [
        "<a href=\"https://colab.research.google.com/github/Rahulcool710/case_study_4_Rahul_yadav_ece_B.py/blob/main/case_study_4_py.ipynb\" target=\"_parent\"><img src=\"https://colab.research.google.com/assets/colab-badge.svg\" alt=\"Open In Colab\"/></a>"
      ]
    },
    {
      "cell_type": "code",
      "execution_count": 3,
      "metadata": {
        "colab": {
          "base_uri": "https://localhost:8080/",
          "height": 0
        },
        "id": "XYiNBNLSWBy9",
        "outputId": "10b90f7e-cbc6-4cee-a55e-043075d8073f"
      },
      "outputs": [
        {
          "output_type": "stream",
          "name": "stdout",
          "text": [
            "\n",
            "To-Do Notes Builder\n",
            "1. Add Task\n",
            "2. View Tasks\n",
            "3. Delete Task\n",
            "4. Mark Task as Completed\n",
            "5. Exit\n",
            "Enter your choice: 1\n",
            "Enter the task: rahul\n",
            "Task added successfully!\n",
            "\n",
            "To-Do Notes Builder\n",
            "1. Add Task\n",
            "2. View Tasks\n",
            "3. Delete Task\n",
            "4. Mark Task as Completed\n",
            "5. Exit\n",
            "Enter your choice: 1\n",
            "Enter the task: lovely\n",
            "Task added successfully!\n",
            "\n",
            "To-Do Notes Builder\n",
            "1. Add Task\n",
            "2. View Tasks\n",
            "3. Delete Task\n",
            "4. Mark Task as Completed\n",
            "5. Exit\n",
            "Enter your choice: 2\n",
            "\n",
            "Tasks:\n",
            "1. rahul\n",
            "2. lovely\n",
            "\n",
            "To-Do Notes Builder\n",
            "1. Add Task\n",
            "2. View Tasks\n",
            "3. Delete Task\n",
            "4. Mark Task as Completed\n",
            "5. Exit\n",
            "Enter your choice: 4\n",
            "Enter the task number to mark as completed: 2\n",
            "Task marked as completed!\n",
            "\n",
            "To-Do Notes Builder\n",
            "1. Add Task\n",
            "2. View Tasks\n",
            "3. Delete Task\n",
            "4. Mark Task as Completed\n",
            "5. Exit\n",
            "Enter your choice: 2\n",
            "\n",
            "Tasks:\n",
            "1. rahul\n",
            "2. [✓] lovely\n",
            "\n",
            "To-Do Notes Builder\n",
            "1. Add Task\n",
            "2. View Tasks\n",
            "3. Delete Task\n",
            "4. Mark Task as Completed\n",
            "5. Exit\n",
            "Enter your choice: 5\n",
            "Exiting...\n"
          ]
        }
      ],
      "source": [
        "t = []\n",
        "\n",
        "while True:\n",
        "    print(\"\\nTo-Do Notes Builder\")\n",
        "    print(\"1. Add Task\")\n",
        "    print(\"2. View Tasks\")\n",
        "    print(\"3. Delete Task\")\n",
        "    print(\"4. Mark Task as Completed\")\n",
        "    print(\"5. Exit\")\n",
        "\n",
        "    choice = int(input(\"Enter your choice: \"))\n",
        "\n",
        "    if choice == 1:\n",
        "        task = input(\"Enter the task: \")\n",
        "        t.append(task)\n",
        "        print(\"Task added successfully!\")\n",
        "\n",
        "    elif choice == 2:\n",
        "        if not t:\n",
        "            print(\"No tasks yet!\")\n",
        "        else:\n",
        "            print(\"\\nTasks:\")\n",
        "            for i, task in enumerate(t):\n",
        "                print(f\"{i + 1}. {task}\")\n",
        "\n",
        "    elif choice == 3:\n",
        "        if not t:\n",
        "            print(\"No tasks to delete!\")\n",
        "        else:\n",
        "            task_index = int(input(\"Enter the task number to delete: \")) - 1\n",
        "            if 0 <= task_index < len(t):\n",
        "                del t[task_index]\n",
        "                print(\"Task deleted successfully!\")\n",
        "            else:\n",
        "                print(\"Invalid task number!\")\n",
        "\n",
        "    elif choice == 4:\n",
        "        if not t:\n",
        "            print(\"No tasks to mark as completed!\")\n",
        "        else:\n",
        "            task_index = int(input(\"Enter the task number to mark as completed: \")) - 1\n",
        "            if 0 <= task_index < len(t):\n",
        "                t[task_index] = f\"[✓] {t[task_index]}\"\n",
        "                print(\"Task marked as completed!\")\n",
        "            else:\n",
        "                print(\"Invalid task number!\")\n",
        "\n",
        "    elif choice == 5:\n",
        "        print(\"Exiting...\")\n",
        "        break\n",
        "\n",
        "    else:\n",
        "        print(\"Invalid choice!\")"
      ]
    }
  ]
}